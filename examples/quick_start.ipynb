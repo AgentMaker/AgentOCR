{
  "nbformat": 4,
  "nbformat_minor": 0,
  "metadata": {
    "kernelspec": {
      "name": "python3",
      "display_name": "Python 3"
    },
    "colab": {
      "name": "quick_start.ipynb",
      "provenance": [],
      "collapsed_sections": []
    },
    "language_info": {
      "name": "python"
    }
  },
  "cells": [
    {
      "cell_type": "markdown",
      "metadata": {
        "collapsed": false,
        "id": "GJd_RCY83Qz8"
      },
      "source": [
        "# **安装**\n",
        "* AgentOCR 可直接通过 pip 进行下载安装\n",
        "* Package 依赖 ONNXRuntime，不过由于 ONNXRuntime 的版本过多，安装 AgentOCR 不会自动安装该依赖\n",
        "* 需要根据 ONNX 官网安装提示，手动选择合适的平台版本进行安装"
      ]
    },
    {
      "cell_type": "code",
      "metadata": {
        "id": "PoRRzwm-3Qz8"
      },
      "source": [
        "# 安装 AgentOCR\n",
        "!pip install agentocr\n",
        "\n",
        "# 安装 CPU 版本 ONNXRuntime\n",
        "!pip install onnxruntime\n",
        "\n",
        "# 安装 GPU 版本 ONNXRuntime\n",
        "# !pip install onnxruntime-gpu"
      ],
      "execution_count": null,
      "outputs": []
    },
    {
      "cell_type": "markdown",
      "metadata": {
        "id": "b-IZF8FJ3dHc"
      },
      "source": [
        "# **下载测试图片**"
      ]
    },
    {
      "cell_type": "code",
      "metadata": {
        "id": "Y3UCWXFS3cX0"
      },
      "source": [
        "!mkdir images\n",
        "!wget https://ai-studio-static-online.cdn.bcebos.com/c4c758456cc74d9e997a72a25c47a3a57707b0664ed546819e4d5981ba765b13 -O images/ch.jpg\n",
        "!wget https://ai-studio-static-online.cdn.bcebos.com/48dd39f3671c44d9b58564811ebeab36bc931fa4f9e64ce4bfa9783706cc85bf -O images/en.jpg\n",
        "!wget https://ai-studio-static-online.cdn.bcebos.com/d4f9dd815d024114bd4eee7dca03f7222c135073b01642f3866684b404b75d2a -O images/korean.jpg "
      ],
      "execution_count": null,
      "outputs": []
    },
    {
      "cell_type": "markdown",
      "metadata": {
        "collapsed": false,
        "id": "2Q7Ns0EW3Qz8"
      },
      "source": [
        "# **使用**\n",
        "* 支持多语言识别模型，可通过内置的配置文件进行快速切换"
      ]
    },
    {
      "cell_type": "markdown",
      "metadata": {
        "collapsed": false,
        "id": "XkEhzkVb3Qz9"
      },
      "source": [
        "## **中/英文识别**\n",
        "![](https://ai-studio-static-online.cdn.bcebos.com/c4c758456cc74d9e997a72a25c47a3a57707b0664ed546819e4d5981ba765b13)\n"
      ]
    },
    {
      "cell_type": "code",
      "metadata": {
        "colab": {
          "base_uri": "https://localhost:8080/"
        },
        "id": "gHRN1CjY3Qz9",
        "outputId": "db361a46-bb5f-41d7-fa1b-cf6ad4e5079b"
      },
      "source": [
        "from agentocr import OCRSystem\n",
        "\n",
        "# 通过 config 参数来进行模型配置，内置多国语言的配置文件\n",
        "ocr = OCRSystem(config='ch')\n",
        "\n",
        "# 设置测试图片路径\n",
        "img_path = 'images/ch.jpg'\n",
        "\n",
        "# 调用 OCR API 进行全流程识别\n",
        "result = ocr.ocr(img_path)\n",
        "\n",
        "# 打印结果\n",
        "for line in result:\n",
        "    print(line)"
      ],
      "execution_count": 3,
      "outputs": [
        {
          "output_type": "stream",
          "name": "stdout",
          "text": [
            "[2021/09/02 14:44:44] root INFO: OCRSystem config:{'providers': 'auto', 'det_algorithm': 'DB', 'det_model_dir': 'ch_ppocr_mobile_v2.0_det', 'det_limit_side_len': 960, 'det_limit_type': 'max', 'det_db_thresh': 0.3, 'det_db_box_thresh': 0.6, 'det_db_unclip_ratio': 1.5, 'use_dilation': False, 'det_db_score_mode': 'fast', 'det_east_score_thresh': 0.8, 'det_east_cover_thresh': 0.1, 'det_east_nms_thresh': 0.2, 'det_sast_score_thresh': 0.5, 'det_sast_nms_thresh': 0.2, 'det_sast_polygon': False, 'rec_algorithm': 'CRNN', 'rec_model_dir': 'ch_ppocr_mobile_v2.0_rec', 'rec_image_shape': '3, 32, 320', 'rec_char_type': 'ch', 'rec_batch_num': 8, 'max_text_length': 25, 'rec_char_dict_path': 'ppocr_keys_v1', 'use_space_char': True, 'vis_font_path': 'simfang', 'drop_score': 0.5, 'cls_model_dir': 'ch_ppocr_mobile_v2.0_cls', 'cls_image_shape': '3, 48, 192', 'label_list': ['0', '180'], 'cls_batch_num': 8, 'cls_thresh': 0.9, 'total_process_num': 1, 'show_log': True}\n",
            "[2021/09/02 14:44:44] root INFO: All available providers: ['CPU']\n",
            "[2021/09/02 14:44:51] root INFO: Using providers: ['CPU']\n",
            "[2021/09/02 14:44:55] root INFO: Using providers: ['CPU']\n",
            "[2021/09/02 14:44:59] root INFO: Using providers: ['CPU']\n"
          ]
        },
        {
          "output_type": "stream",
          "name": "stderr",
          "text": [
            "/usr/local/lib/python3.7/dist-packages/numpy/core/fromnumeric.py:3373: RuntimeWarning: Mean of empty slice.\n",
            "  out=out, **kwargs)\n",
            "/usr/local/lib/python3.7/dist-packages/numpy/core/_methods.py:170: RuntimeWarning: invalid value encountered in double_scalars\n",
            "  ret = ret.dtype.type(ret / rcount)\n"
          ]
        },
        {
          "output_type": "stream",
          "name": "stdout",
          "text": [
            "[2021/09/02 14:45:00] root DEBUG: dt_boxes num : 16, elapse : 0.09940934181213379\n",
            "[2021/09/02 14:45:01] root DEBUG: rec_res num  : 16, elapse : 0.5330033302307129\n",
            "[[[26.0, 37.0], [301.0, 39.0], [301.0, 72.0], [25.0, 70.0]], ['纯臻营养护发素', 0.971377968788147]]\n",
            "[[[27.0, 82.0], [172.0, 82.0], [172.0, 103.0], [27.0, 103.0]], ['产品信息/参数', 0.9922086596488953]]\n",
            "[[[28.0, 113.0], [330.0, 113.0], [330.0, 133.0], [28.0, 133.0]], ['45元/每公斤，100公斤起订）', 0.9619097709655762]]\n",
            "[[[25.0, 143.0], [283.0, 144.0], [283.0, 164.0], [25.0, 163.0]], ['每瓶22元，1000瓶起订）', 0.9908633828163147]]\n",
            "[[[24.0, 177.0], [301.0, 176.0], [301.0, 195.0], [24.0, 196.0]], ['【品牌】：代加工方式/OEMODM', 0.9834667444229126]]\n",
            "[[[26.0, 210.0], [232.0, 210.0], [232.0, 227.0], [26.0, 227.0]], ['【品名】：纯臻营养护发素', 0.9786152243614197]]\n",
            "[[[24.0, 239.0], [241.0, 237.0], [241.0, 257.0], [25.0, 259.0]], ['【产品编号】：YM-X-3011', 0.9821851849555969]]\n",
            "[[[415.0, 241.0], [429.0, 241.0], [429.0, 300.0], [415.0, 300.0]], ['DMOEM', 0.8878258466720581]]\n",
            "[[[25.0, 272.0], [180.0, 270.0], [180.0, 288.0], [25.0, 289.0]], ['【净含量】：220ml', 0.9954416155815125]]\n",
            "[[[26.0, 304.0], [251.0, 304.0], [251.0, 320.0], [26.0, 320.0]], ['【适用人群】：适合所有肤质', 0.9606326818466187]]\n",
            "[[[25.0, 334.0], [342.0, 335.0], [342.0, 352.0], [25.0, 351.0]], ['【主要成分】：鲸蜡硬脂醇、燕麦-葡聚', 0.9720807671546936]]\n",
            "[[[27.0, 367.0], [279.0, 367.0], [279.0, 381.0], [27.0, 381.0]], ['糖、椰油酰胺内基甜菜碱、泛醇', 0.8544049859046936]]\n",
            "[[[368.0, 370.0], [474.0, 370.0], [474.0, 384.0], [368.0, 384.0]], ['（成品包材）', 0.9908912777900696]]\n",
            "[[[27.0, 398.0], [360.0, 398.0], [360.0, 412.0], [27.0, 412.0]], ['（主要功能】：可紧致头发磷层，从而达到', 0.9463475942611694]]\n",
            "[[[28.0, 431.0], [369.0, 431.0], [369.0, 444.0], [28.0, 444.0]], ['即时持久改善头发光泽的效果，给十燥的头', 0.9470974802970886]]\n",
            "[[[28.0, 460.0], [135.0, 460.0], [135.0, 477.0], [28.0, 477.0]], ['发足够的滋养', 0.997718095779419]]\n"
          ]
        }
      ]
    },
    {
      "cell_type": "markdown",
      "metadata": {
        "collapsed": false,
        "id": "0tD9vKs93Qz9"
      },
      "source": [
        "## **英文识别**\n",
        "![](https://ai-studio-static-online.cdn.bcebos.com/48dd39f3671c44d9b58564811ebeab36bc931fa4f9e64ce4bfa9783706cc85bf)\n"
      ]
    },
    {
      "cell_type": "code",
      "metadata": {
        "colab": {
          "base_uri": "https://localhost:8080/"
        },
        "id": "5BrdG2_r3Qz-",
        "outputId": "33de4021-5063-4a0e-d26c-3be382207d6c"
      },
      "source": [
        "from agentocr import OCRSystem\n",
        "\n",
        "# 通过 config 参数来进行模型配置，内置多国语言的配置文件\n",
        "ocr = OCRSystem(config='en')\n",
        "\n",
        "# 设置测试图片路径\n",
        "img_path = 'images/en.jpg'\n",
        "\n",
        "# 调用 OCR API 进行全流程识别\n",
        "result = ocr.ocr(img_path)\n",
        "\n",
        "# 打印结果\n",
        "for line in result:\n",
        "    print(line)"
      ],
      "execution_count": 4,
      "outputs": [
        {
          "output_type": "stream",
          "name": "stdout",
          "text": [
            "[2021/09/02 14:45:08] root INFO: OCRSystem config:{'providers': 'auto', 'det_algorithm': 'DB', 'det_model_dir': 'en_ppocr_mobile_v2.0_det', 'det_limit_side_len': 960, 'det_limit_type': 'max', 'det_db_thresh': 0.3, 'det_db_box_thresh': 0.6, 'det_db_unclip_ratio': 1.5, 'use_dilation': False, 'det_db_score_mode': 'fast', 'det_east_score_thresh': 0.8, 'det_east_cover_thresh': 0.1, 'det_east_nms_thresh': 0.2, 'det_sast_score_thresh': 0.5, 'det_sast_nms_thresh': 0.2, 'det_sast_polygon': False, 'rec_algorithm': 'CRNN', 'rec_model_dir': 'en_ppocr_mobile_v2.0_number_rec', 'rec_image_shape': '3, 32, 320', 'rec_char_type': 'EN', 'rec_batch_num': 8, 'max_text_length': 25, 'rec_char_dict_path': 'en_dict', 'use_space_char': True, 'vis_font_path': 'simfang', 'drop_score': 0.5, 'cls_model_dir': 'ch_ppocr_mobile_v2.0_cls', 'cls_image_shape': '3, 48, 192', 'label_list': ['0', '180'], 'cls_batch_num': 8, 'cls_thresh': 0.9, 'total_process_num': 1, 'show_log': True}\n",
            "[2021/09/02 14:45:08] root INFO: All available providers: ['CPU']\n",
            "[2021/09/02 14:45:19] root INFO: Using providers: ['CPU']\n",
            "[2021/09/02 14:45:19] root INFO: Using providers: ['CPU']\n",
            "[2021/09/02 14:45:23] root INFO: Using providers: ['CPU']\n"
          ]
        },
        {
          "output_type": "stream",
          "name": "stderr",
          "text": [
            "/usr/local/lib/python3.7/dist-packages/numpy/core/fromnumeric.py:3373: RuntimeWarning: Mean of empty slice.\n",
            "  out=out, **kwargs)\n",
            "/usr/local/lib/python3.7/dist-packages/numpy/core/_methods.py:170: RuntimeWarning: invalid value encountered in double_scalars\n",
            "  ret = ret.dtype.type(ret / rcount)\n"
          ]
        },
        {
          "output_type": "stream",
          "name": "stdout",
          "text": [
            "[2021/09/02 14:45:24] root DEBUG: dt_boxes num : 3, elapse : 0.029035568237304688\n",
            "[2021/09/02 14:45:24] root DEBUG: rec_res num  : 3, elapse : 0.020945072174072266\n",
            "[[[77.0, 121.0], [268.0, 124.0], [268.0, 164.0], [77.0, 161.0]], ['EPPING', 0.9977113604545593]]\n",
            "[[[100.0, 182.0], [247.0, 185.0], [246.0, 206.0], [100.0, 203.0]], ['Twinned with', 0.9978880286216736]]\n",
            "[[[67.0, 204.0], [275.0, 209.0], [275.0, 231.0], [66.0, 227.0]], ['EppingenGermany', 0.9661625623703003]]\n"
          ]
        }
      ]
    },
    {
      "cell_type": "markdown",
      "metadata": {
        "collapsed": false,
        "id": "czZapFYM3Qz-"
      },
      "source": [
        "## **韩文识别**\n",
        "![](https://ai-studio-static-online.cdn.bcebos.com/d4f9dd815d024114bd4eee7dca03f7222c135073b01642f3866684b404b75d2a)\n"
      ]
    },
    {
      "cell_type": "code",
      "metadata": {
        "colab": {
          "base_uri": "https://localhost:8080/"
        },
        "id": "m1ZiZEi13Qz-",
        "outputId": "e41f2bec-4e84-4e8e-a295-5cc872a5cd42"
      },
      "source": [
        "from agentocr import OCRSystem\n",
        "\n",
        "# 通过 config 参数来进行模型配置，内置多国语言的配置文件\n",
        "ocr = OCRSystem(config='korean')\n",
        "\n",
        "# 设置测试图片路径\n",
        "img_path = 'images/korean.jpg'\n",
        "\n",
        "# 调用 OCR API 进行全流程识别\n",
        "result = ocr.ocr(img_path)\n",
        "\n",
        "# 打印结果\n",
        "for line in result:\n",
        "    print(line)"
      ],
      "execution_count": 6,
      "outputs": [
        {
          "output_type": "stream",
          "name": "stdout",
          "text": [
            "[2021/09/02 14:45:57] root INFO: OCRSystem config:{'providers': 'auto', 'det_algorithm': 'DB', 'det_model_dir': 'en_ppocr_mobile_v2.0_det', 'det_limit_side_len': 960, 'det_limit_type': 'max', 'det_db_thresh': 0.3, 'det_db_box_thresh': 0.6, 'det_db_unclip_ratio': 1.5, 'use_dilation': False, 'det_db_score_mode': 'fast', 'det_east_score_thresh': 0.8, 'det_east_cover_thresh': 0.1, 'det_east_nms_thresh': 0.2, 'det_sast_score_thresh': 0.5, 'det_sast_nms_thresh': 0.2, 'det_sast_polygon': False, 'rec_algorithm': 'CRNN', 'rec_model_dir': 'korean_ppocr_mobile_v2.0_rec', 'rec_image_shape': '3, 32, 320', 'rec_char_type': 'korean', 'rec_batch_num': 8, 'max_text_length': 25, 'rec_char_dict_path': 'korean_dict', 'use_space_char': True, 'vis_font_path': 'korean', 'drop_score': 0.5, 'cls_model_dir': 'ch_ppocr_mobile_v2.0_cls', 'cls_image_shape': '3, 48, 192', 'label_list': ['0', '180'], 'cls_batch_num': 8, 'cls_thresh': 0.9, 'total_process_num': 1, 'show_log': True}\n",
            "[2021/09/02 14:45:57] root INFO: All available providers: ['CPU']\n",
            "[2021/09/02 14:45:57] root INFO: Using providers: ['CPU']\n",
            "[2021/09/02 14:45:57] root INFO: Using providers: ['CPU']\n",
            "[2021/09/02 14:46:01] root INFO: Using providers: ['CPU']\n",
            "[2021/09/02 14:46:03] root DEBUG: dt_boxes num : 5, elapse : 0.2561981678009033\n",
            "[2021/09/02 14:46:03] root DEBUG: rec_res num  : 5, elapse : 0.09505438804626465\n",
            "[[[400.0, 518.0], [502.0, 513.0], [504.0, 550.0], [402.0, 555.0]], ['오야야', 0.7852867245674133]]\n",
            "[[[156.0, 576.0], [760.0, 559.0], [761.0, 594.0], [157.0, 610.0]], ['내가 잔깐 좋아하는 사람이 생겨서 혼과 공공', 0.8225479125976562]]\n",
            "[[[203.0, 636.0], [718.0, 625.0], [718.0, 662.0], [203.0, 672.0]], ['않다가 죽어어릴것안 같아서 여기를 한다', 0.8644148707389832]]\n",
            "[[[178.0, 691.0], [709.0, 683.0], [709.0, 717.0], [178.0, 724.0]], ['눈 앞이 아른아른 거리는 잘 생긴 얼굴 자꾸', 0.8839521408081055]]\n",
            "[[[225.0, 739.0], [658.0, 738.0], [658.0, 770.0], [225.0, 771.0]], ['귀에 냄도는 크의 측촉한 옥소리 예', 0.8728228211402893]]\n"
          ]
        }
      ]
    }
  ]
}